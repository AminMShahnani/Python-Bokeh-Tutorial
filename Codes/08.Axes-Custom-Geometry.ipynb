{
 "cells": [
  {
   "cell_type": "markdown",
   "id": "1d95f88e-29e6-40ef-84fb-ca2218546c37",
   "metadata": {},
   "source": [
    "### Plotting flower species"
   ]
  },
  {
   "cell_type": "code",
   "execution_count": 1,
   "id": "fdae7fbf-4100-40d6-ac70-000066bb57a0",
   "metadata": {},
   "outputs": [],
   "source": [
    "# Importing libraries\n",
    "\n",
    "from bokeh.plotting import figure\n",
    "from bokeh.io import output_file, show\n",
    "from bokeh.sampledata.iris import flowers\n",
    "from bokeh.models import Range1d"
   ]
  },
  {
   "cell_type": "code",
   "execution_count": 2,
   "id": "36b0df8f-1d89-47e7-b842-b6a4d056510a",
   "metadata": {},
   "outputs": [],
   "source": [
    "# Define the output file path\n",
    "output_file(\"08_iris.html\")"
   ]
  },
  {
   "cell_type": "code",
   "execution_count": 3,
   "id": "96a76154-273f-4ec4-9045-22d65b8c024b",
   "metadata": {},
   "outputs": [],
   "source": [
    "# Create the figure object\n",
    "f = figure()"
   ]
  },
  {
   "cell_type": "code",
   "execution_count": 4,
   "id": "308536ba-e966-41eb-8698-c7d3825aabf7",
   "metadata": {},
   "outputs": [],
   "source": [
    "# Style the plot area\n",
    "\n",
    "f.width=1100\n",
    "f.height=650\n",
    "f.background_fill_color=\"olive\"\n",
    "f.background_fill_alpha=0.3"
   ]
  },
  {
   "cell_type": "code",
   "execution_count": 5,
   "id": "eb31bfc7-2564-4b15-a5ff-b34efd023627",
   "metadata": {},
   "outputs": [],
   "source": [
    "# Style the title\n",
    "\n",
    "f.title.text = \"Iris Morphology\"\n",
    "f.title.text_color  =  \"olive\"\n",
    "f.title.text_font = \"times\"\n",
    "f.title.text_font_size = \"25px\"\n",
    "f.title.align = \"center\""
   ]
  },
  {
   "cell_type": "code",
   "execution_count": 10,
   "id": "fd6964ae-026a-4c3e-9ec8-f8b03640ddbc",
   "metadata": {},
   "outputs": [],
   "source": [
    "# Styling the axes\n",
    "\n",
    "f.xaxis.minor_tick_line_color =\"blue\"\n",
    "f.yaxis.major_label_orientation = \"vertical\"\n",
    "f.xaxis.visible = True\n",
    "f.xaxis.minor_tick_in = -6\n",
    "#f.xaxis.minor_tick_out = 10\n",
    "f.xaxis.axis_label  =  \"Petal Length\"\n",
    "f.yaxis.axis_label = \"Petal Width\"\n",
    "f.axis.axis_label_text_color = \"blue\"\n",
    "f.axis.major_label_text_color = \"orange\""
   ]
  },
  {
   "cell_type": "code",
   "execution_count": null,
   "id": "debb7391-eae2-4dc0-a2a6-4afe1fc81472",
   "metadata": {},
   "outputs": [],
   "source": [
    "# Axes geometry\n",
    "\n",
    "f.x_range = Range1d(start=0, end=10)\n",
    "f.y_range = Range1d(start=0, end=5)\n",
    "f.xaxis.bounds = (2, 5)\n",
    "f.xaxis[0].ticker.desired_num_ticks = 2\n",
    "f.yaxis[0].ticker.desired_num_ticks = 2\n",
    "f.yaxis[0].ticker.num_minor_ticks = 10"
   ]
  },
  {
   "cell_type": "code",
   "execution_count": 11,
   "id": "a166c2e1-20a6-47fc-a1b4-e27b5432f2de",
   "metadata": {},
   "outputs": [
    {
     "data": {
      "text/html": [
       "<div style=\"display: table;\"><div style=\"display: table-row;\"><div style=\"display: table-cell;\"><b title=\"bokeh.models.renderers.glyph_renderer.GlyphRenderer\">GlyphRenderer</b>(</div><div style=\"display: table-cell;\">id&nbsp;=&nbsp;'p1049', <span id=\"p1053\" style=\"cursor: pointer;\">&hellip;)</span></div></div><div class=\"p1052\" style=\"display: none;\"><div style=\"display: table-cell;\"></div><div style=\"display: table-cell;\">coordinates&nbsp;=&nbsp;None,</div></div><div class=\"p1052\" style=\"display: none;\"><div style=\"display: table-cell;\"></div><div style=\"display: table-cell;\">data_source&nbsp;=&nbsp;ColumnDataSource(id='p1043', ...),</div></div><div class=\"p1052\" style=\"display: none;\"><div style=\"display: table-cell;\"></div><div style=\"display: table-cell;\">glyph&nbsp;=&nbsp;Circle(id='p1046', ...),</div></div><div class=\"p1052\" style=\"display: none;\"><div style=\"display: table-cell;\"></div><div style=\"display: table-cell;\">group&nbsp;=&nbsp;None,</div></div><div class=\"p1052\" style=\"display: none;\"><div style=\"display: table-cell;\"></div><div style=\"display: table-cell;\">hover_glyph&nbsp;=&nbsp;None,</div></div><div class=\"p1052\" style=\"display: none;\"><div style=\"display: table-cell;\"></div><div style=\"display: table-cell;\">js_event_callbacks&nbsp;=&nbsp;{},</div></div><div class=\"p1052\" style=\"display: none;\"><div style=\"display: table-cell;\"></div><div style=\"display: table-cell;\">js_property_callbacks&nbsp;=&nbsp;{},</div></div><div class=\"p1052\" style=\"display: none;\"><div style=\"display: table-cell;\"></div><div style=\"display: table-cell;\">level&nbsp;=&nbsp;'glyph',</div></div><div class=\"p1052\" style=\"display: none;\"><div style=\"display: table-cell;\"></div><div style=\"display: table-cell;\">muted&nbsp;=&nbsp;False,</div></div><div class=\"p1052\" style=\"display: none;\"><div style=\"display: table-cell;\"></div><div style=\"display: table-cell;\">muted_glyph&nbsp;=&nbsp;Circle(id='p1048', ...),</div></div><div class=\"p1052\" style=\"display: none;\"><div style=\"display: table-cell;\"></div><div style=\"display: table-cell;\">name&nbsp;=&nbsp;None,</div></div><div class=\"p1052\" style=\"display: none;\"><div style=\"display: table-cell;\"></div><div style=\"display: table-cell;\">nonselection_glyph&nbsp;=&nbsp;Circle(id='p1047', ...),</div></div><div class=\"p1052\" style=\"display: none;\"><div style=\"display: table-cell;\"></div><div style=\"display: table-cell;\">propagate_hover&nbsp;=&nbsp;False,</div></div><div class=\"p1052\" style=\"display: none;\"><div style=\"display: table-cell;\"></div><div style=\"display: table-cell;\">selection_glyph&nbsp;=&nbsp;'auto',</div></div><div class=\"p1052\" style=\"display: none;\"><div style=\"display: table-cell;\"></div><div style=\"display: table-cell;\">subscribed_events&nbsp;=&nbsp;PropertyValueSet(),</div></div><div class=\"p1052\" style=\"display: none;\"><div style=\"display: table-cell;\"></div><div style=\"display: table-cell;\">syncable&nbsp;=&nbsp;True,</div></div><div class=\"p1052\" style=\"display: none;\"><div style=\"display: table-cell;\"></div><div style=\"display: table-cell;\">tags&nbsp;=&nbsp;[],</div></div><div class=\"p1052\" style=\"display: none;\"><div style=\"display: table-cell;\"></div><div style=\"display: table-cell;\">view&nbsp;=&nbsp;CDSView(id='p1050', ...),</div></div><div class=\"p1052\" style=\"display: none;\"><div style=\"display: table-cell;\"></div><div style=\"display: table-cell;\">visible&nbsp;=&nbsp;True,</div></div><div class=\"p1052\" style=\"display: none;\"><div style=\"display: table-cell;\"></div><div style=\"display: table-cell;\">x_range_name&nbsp;=&nbsp;'default',</div></div><div class=\"p1052\" style=\"display: none;\"><div style=\"display: table-cell;\"></div><div style=\"display: table-cell;\">y_range_name&nbsp;=&nbsp;'default')</div></div></div>\n",
       "<script>\n",
       "(function() {\n",
       "  let expanded = false;\n",
       "  const ellipsis = document.getElementById(\"p1053\");\n",
       "  ellipsis.addEventListener(\"click\", function() {\n",
       "    const rows = document.getElementsByClassName(\"p1052\");\n",
       "    for (let i = 0; i < rows.length; i++) {\n",
       "      const el = rows[i];\n",
       "      el.style.display = expanded ? \"none\" : \"table-row\";\n",
       "    }\n",
       "    ellipsis.innerHTML = expanded ? \"&hellip;)\" : \"&lsaquo;&lsaquo;&lsaquo;\";\n",
       "    expanded = !expanded;\n",
       "  });\n",
       "})();\n",
       "</script>\n"
      ],
      "text/plain": [
       "GlyphRenderer(id='p1049', ...)"
      ]
     },
     "execution_count": 11,
     "metadata": {},
     "output_type": "execute_result"
    }
   ],
   "source": [
    "# Adding glyphs\n",
    "f.circle(x=flowers[\"petal_length\"], y=flowers[\"petal_width\"])"
   ]
  },
  {
   "cell_type": "code",
   "execution_count": 12,
   "id": "13de30b7-07b5-4686-b415-b8e523c270b2",
   "metadata": {},
   "outputs": [],
   "source": [
    "# Save and show the figure\n",
    "show(f)"
   ]
  },
  {
   "cell_type": "code",
   "execution_count": 9,
   "id": "c452c1e7-f725-435c-aead-18a3ad3200df",
   "metadata": {},
   "outputs": [
    {
     "data": {
      "text/plain": [
       "['__annotations__',\n",
       " '__class__',\n",
       " '__delattr__',\n",
       " '__dict__',\n",
       " '__dir__',\n",
       " '__doc__',\n",
       " '__eq__',\n",
       " '__format__',\n",
       " '__ge__',\n",
       " '__getattr__',\n",
       " '__getattribute__',\n",
       " '__gt__',\n",
       " '__hash__',\n",
       " '__init__',\n",
       " '__init_subclass__',\n",
       " '__le__',\n",
       " '__lt__',\n",
       " '__module__',\n",
       " '__ne__',\n",
       " '__new__',\n",
       " '__overridden_defaults__',\n",
       " '__properties__',\n",
       " '__qualified_model__',\n",
       " '__reduce__',\n",
       " '__reduce_ex__',\n",
       " '__repr__',\n",
       " '__setattr__',\n",
       " '__sizeof__',\n",
       " '__str__',\n",
       " '__subclasshook__',\n",
       " '__view_model__',\n",
       " '__view_module__',\n",
       " '__weakref__',\n",
       " '_args',\n",
       " '_attach_document',\n",
       " '_callbacks',\n",
       " '_clear_extensions',\n",
       " '_detach_document',\n",
       " '_document',\n",
       " '_event_callbacks',\n",
       " '_extra_kws',\n",
       " '_id',\n",
       " '_initialized',\n",
       " '_overridden_defaults',\n",
       " '_property_values',\n",
       " '_raise_attribute_error_with_matches',\n",
       " '_repr_html_',\n",
       " '_sphinx_height_hint',\n",
       " '_temp_document',\n",
       " '_trigger_event',\n",
       " '_unstable_default_values',\n",
       " '_unstable_themed_values',\n",
       " '_update_event_callbacks',\n",
       " 'apply_theme',\n",
       " 'axis_label',\n",
       " 'axis_label_orientation',\n",
       " 'axis_label_standoff',\n",
       " 'axis_label_text_align',\n",
       " 'axis_label_text_alpha',\n",
       " 'axis_label_text_baseline',\n",
       " 'axis_label_text_color',\n",
       " 'axis_label_text_font',\n",
       " 'axis_label_text_font_size',\n",
       " 'axis_label_text_font_style',\n",
       " 'axis_label_text_line_height',\n",
       " 'axis_label_text_outline_color',\n",
       " 'axis_line_alpha',\n",
       " 'axis_line_cap',\n",
       " 'axis_line_color',\n",
       " 'axis_line_dash',\n",
       " 'axis_line_dash_offset',\n",
       " 'axis_line_join',\n",
       " 'axis_line_width',\n",
       " 'bounds',\n",
       " 'clone',\n",
       " 'coordinates',\n",
       " 'dataspecs',\n",
       " 'descriptors',\n",
       " 'destroy',\n",
       " 'document',\n",
       " 'equals',\n",
       " 'fixed_location',\n",
       " 'formatter',\n",
       " 'group',\n",
       " 'id',\n",
       " 'js_event_callbacks',\n",
       " 'js_link',\n",
       " 'js_on_change',\n",
       " 'js_on_event',\n",
       " 'js_property_callbacks',\n",
       " 'level',\n",
       " 'lookup',\n",
       " 'major_label_orientation',\n",
       " 'major_label_overrides',\n",
       " 'major_label_policy',\n",
       " 'major_label_standoff',\n",
       " 'major_label_text_align',\n",
       " 'major_label_text_alpha',\n",
       " 'major_label_text_baseline',\n",
       " 'major_label_text_color',\n",
       " 'major_label_text_font',\n",
       " 'major_label_text_font_size',\n",
       " 'major_label_text_font_style',\n",
       " 'major_label_text_line_height',\n",
       " 'major_label_text_outline_color',\n",
       " 'major_tick_in',\n",
       " 'major_tick_line_alpha',\n",
       " 'major_tick_line_cap',\n",
       " 'major_tick_line_color',\n",
       " 'major_tick_line_dash',\n",
       " 'major_tick_line_dash_offset',\n",
       " 'major_tick_line_join',\n",
       " 'major_tick_line_width',\n",
       " 'major_tick_out',\n",
       " 'minor_tick_in',\n",
       " 'minor_tick_line_alpha',\n",
       " 'minor_tick_line_cap',\n",
       " 'minor_tick_line_color',\n",
       " 'minor_tick_line_dash',\n",
       " 'minor_tick_line_dash_offset',\n",
       " 'minor_tick_line_join',\n",
       " 'minor_tick_line_width',\n",
       " 'minor_tick_out',\n",
       " 'name',\n",
       " 'on_change',\n",
       " 'on_event',\n",
       " 'parameters',\n",
       " 'propagate_hover',\n",
       " 'properties',\n",
       " 'properties_with_refs',\n",
       " 'properties_with_values',\n",
       " 'query_properties_with_values',\n",
       " 'ref',\n",
       " 'references',\n",
       " 'remove_on_change',\n",
       " 'select',\n",
       " 'select_one',\n",
       " 'set_from_json',\n",
       " 'set_select',\n",
       " 'subscribed_events',\n",
       " 'syncable',\n",
       " 'tags',\n",
       " 'themed_values',\n",
       " 'ticker',\n",
       " 'to_serializable',\n",
       " 'trigger',\n",
       " 'unapply_theme',\n",
       " 'update',\n",
       " 'visible',\n",
       " 'x_range_name',\n",
       " 'y_range_name']"
      ]
     },
     "execution_count": 9,
     "metadata": {},
     "output_type": "execute_result"
    }
   ],
   "source": [
    "dir(f.axis)"
   ]
  },
  {
   "cell_type": "code",
   "execution_count": null,
   "id": "9141d38d-f73e-4e63-821a-f16dc2df1aa6",
   "metadata": {},
   "outputs": [],
   "source": []
  }
 ],
 "metadata": {
  "kernelspec": {
   "display_name": "Python 3 (ipykernel)",
   "language": "python",
   "name": "python3"
  },
  "language_info": {
   "codemirror_mode": {
    "name": "ipython",
    "version": 3
   },
   "file_extension": ".py",
   "mimetype": "text/x-python",
   "name": "python",
   "nbconvert_exporter": "python",
   "pygments_lexer": "ipython3",
   "version": "3.10.5"
  }
 },
 "nbformat": 4,
 "nbformat_minor": 5
}
