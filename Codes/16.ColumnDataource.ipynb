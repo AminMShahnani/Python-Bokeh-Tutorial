{
 "cells": [
  {
   "cell_type": "markdown",
   "id": "1d95f88e-29e6-40ef-84fb-ca2218546c37",
   "metadata": {},
   "source": [
    "### Plotting flower species"
   ]
  },
  {
   "cell_type": "code",
   "execution_count": 1,
   "id": "fdae7fbf-4100-40d6-ac70-000066bb57a0",
   "metadata": {},
   "outputs": [],
   "source": [
    "# Importing libraries\n",
    "\n",
    "from bokeh.plotting import figure\n",
    "from bokeh.io import output_file, show\n",
    "from bokeh.sampledata.iris import flowers\n",
    "from bokeh.models import Range1d, PanTool, ResetTool, HoverTool, ColumnDataSource"
   ]
  },
  {
   "cell_type": "code",
   "execution_count": 2,
   "id": "8f623ab6-2e4b-488b-915b-9d1823f77030",
   "metadata": {},
   "outputs": [],
   "source": [
    "colormap = {'setosa' : 'red', 'versicolor' : 'green', 'virginica' : 'blue'}\n",
    "flowers['color'] = [colormap[x] for x  in flowers['species']]"
   ]
  },
  {
   "cell_type": "code",
   "execution_count": 4,
   "id": "e53e1ba5-5aae-4a2d-957e-6017add28fec",
   "metadata": {},
   "outputs": [],
   "source": [
    "setosa = ColumnDataSource(flowers[flowers[\"species\"] == \"setosa\"])\n",
    "versicolor = ColumnDataSource(flowers[flowers[\"species\"] == \"versicolor\"])\n",
    "virginica = ColumnDataSource(flowers[flowers[\"species\"] == \"virginica\"])"
   ]
  },
  {
   "cell_type": "code",
   "execution_count": 5,
   "id": "36b0df8f-1d89-47e7-b842-b6a4d056510a",
   "metadata": {},
   "outputs": [],
   "source": [
    "# Define the output file path\n",
    "output_file(\"16_iris.html\")"
   ]
  },
  {
   "cell_type": "code",
   "execution_count": 6,
   "id": "96a76154-273f-4ec4-9045-22d65b8c024b",
   "metadata": {},
   "outputs": [],
   "source": [
    "# Create the figure object\n",
    "f = figure()"
   ]
  },
  {
   "cell_type": "code",
   "execution_count": 7,
   "id": "a166c2e1-20a6-47fc-a1b4-e27b5432f2de",
   "metadata": {},
   "outputs": [
    {
     "ename": "RuntimeError",
     "evalue": "\n\nExpected size, line_color, fill_color and hatch_color to reference fields in the supplied data source.\n\nWhen a 'source' argument is passed to a glyph method, values that are sequences\n(like lists or arrays) must come from references to data columns in the source.\n\nFor instance, as an example:\n\n    source = ColumnDataSource(data=dict(x=a_list, y=an_array))\n\n    p.circle(x='x', y='y', source=source, ...) # pass column names and a source\n\nAlternatively, *all* data sequences may be provided as literals as long as a\nsource is *not* provided:\n\n    p.circle(x=a_list, y=an_array, ...)  # pass actual sequences and no source\n\n",
     "output_type": "error",
     "traceback": [
      "\u001b[1;31m---------------------------------------------------------------------------\u001b[0m",
      "\u001b[1;31mRuntimeError\u001b[0m                              Traceback (most recent call last)",
      "Cell \u001b[1;32mIn[7], line 3\u001b[0m\n\u001b[0;32m      1\u001b[0m \u001b[38;5;66;03m# Adding glyphs\u001b[39;00m\n\u001b[1;32m----> 3\u001b[0m \u001b[43mf\u001b[49m\u001b[38;5;241;43m.\u001b[39;49m\u001b[43mcircle\u001b[49m\u001b[43m(\u001b[49m\u001b[43mx\u001b[49m\u001b[38;5;241;43m=\u001b[39;49m\u001b[38;5;124;43m\"\u001b[39;49m\u001b[38;5;124;43msetosa\u001b[39;49m\u001b[38;5;124;43m\"\u001b[39;49m\u001b[43m,\u001b[49m\u001b[43m \u001b[49m\u001b[43my\u001b[49m\u001b[38;5;241;43m=\u001b[39;49m\u001b[38;5;124;43m\"\u001b[39;49m\u001b[38;5;124;43mpetal_width\u001b[39;49m\u001b[38;5;124;43m\"\u001b[39;49m\u001b[43m,\u001b[49m\u001b[43m \u001b[49m\n\u001b[0;32m      4\u001b[0m \u001b[43m         \u001b[49m\u001b[43msize\u001b[49m\u001b[38;5;241;43m=\u001b[39;49m\u001b[43mflowers\u001b[49m\u001b[43m[\u001b[49m\u001b[38;5;124;43m'\u001b[39;49m\u001b[38;5;124;43msepal_width\u001b[39;49m\u001b[38;5;124;43m'\u001b[39;49m\u001b[43m]\u001b[49m\u001b[43m[\u001b[49m\u001b[43mflowers\u001b[49m\u001b[43m[\u001b[49m\u001b[38;5;124;43m\"\u001b[39;49m\u001b[38;5;124;43mspecies\u001b[39;49m\u001b[38;5;124;43m\"\u001b[39;49m\u001b[43m]\u001b[49m\u001b[38;5;241;43m==\u001b[39;49m\u001b[38;5;124;43m\"\u001b[39;49m\u001b[38;5;124;43msetosa\u001b[39;49m\u001b[38;5;124;43m\"\u001b[39;49m\u001b[43m]\u001b[49m\u001b[43m \u001b[49m\u001b[38;5;241;43m*\u001b[39;49m\u001b[43m \u001b[49m\u001b[38;5;241;43m4\u001b[39;49m\u001b[43m,\u001b[49m\u001b[43m \u001b[49m\n\u001b[0;32m      5\u001b[0m \u001b[43m         \u001b[49m\u001b[43mfill_alpha\u001b[49m\u001b[38;5;241;43m=\u001b[39;49m\u001b[38;5;241;43m0.5\u001b[39;49m\u001b[43m,\u001b[49m\u001b[43m \u001b[49m\u001b[43mcolor\u001b[49m\u001b[38;5;241;43m=\u001b[39;49m\u001b[43mflowers\u001b[49m\u001b[43m[\u001b[49m\u001b[38;5;124;43m'\u001b[39;49m\u001b[38;5;124;43mcolor\u001b[39;49m\u001b[38;5;124;43m'\u001b[39;49m\u001b[43m]\u001b[49m\u001b[43m[\u001b[49m\u001b[43mflowers\u001b[49m\u001b[43m[\u001b[49m\u001b[38;5;124;43m\"\u001b[39;49m\u001b[38;5;124;43mspecies\u001b[39;49m\u001b[38;5;124;43m\"\u001b[39;49m\u001b[43m]\u001b[49m\u001b[38;5;241;43m==\u001b[39;49m\u001b[38;5;124;43m\"\u001b[39;49m\u001b[38;5;124;43msetosa\u001b[39;49m\u001b[38;5;124;43m\"\u001b[39;49m\u001b[43m]\u001b[49m\u001b[43m,\u001b[49m\u001b[43m \u001b[49m\n\u001b[0;32m      6\u001b[0m \u001b[43m         \u001b[49m\u001b[43mlegend_label\u001b[49m\u001b[38;5;241;43m=\u001b[39;49m\u001b[38;5;124;43m'\u001b[39;49m\u001b[38;5;124;43mSetosa\u001b[39;49m\u001b[38;5;124;43m'\u001b[39;49m\u001b[43m,\u001b[49m\n\u001b[0;32m      7\u001b[0m \u001b[43m         \u001b[49m\u001b[43msource\u001b[49m\u001b[38;5;241;43m=\u001b[39;49m\u001b[43msetosa\u001b[49m\n\u001b[0;32m      8\u001b[0m \u001b[43m        \u001b[49m\u001b[43m)\u001b[49m\n\u001b[0;32m     10\u001b[0m f\u001b[38;5;241m.\u001b[39mcircle(x\u001b[38;5;241m=\u001b[39mflowers[\u001b[38;5;124m\"\u001b[39m\u001b[38;5;124mpetal_length\u001b[39m\u001b[38;5;124m\"\u001b[39m][flowers[\u001b[38;5;124m\"\u001b[39m\u001b[38;5;124mspecies\u001b[39m\u001b[38;5;124m\"\u001b[39m]\u001b[38;5;241m==\u001b[39m\u001b[38;5;124m\"\u001b[39m\u001b[38;5;124mversicolor\u001b[39m\u001b[38;5;124m\"\u001b[39m], y\u001b[38;5;241m=\u001b[39mflowers[\u001b[38;5;124m\"\u001b[39m\u001b[38;5;124mpetal_width\u001b[39m\u001b[38;5;124m\"\u001b[39m][flowers[\u001b[38;5;124m\"\u001b[39m\u001b[38;5;124mspecies\u001b[39m\u001b[38;5;124m\"\u001b[39m]\u001b[38;5;241m==\u001b[39m\u001b[38;5;124m\"\u001b[39m\u001b[38;5;124mversicolor\u001b[39m\u001b[38;5;124m\"\u001b[39m], \n\u001b[0;32m     11\u001b[0m          size\u001b[38;5;241m=\u001b[39mflowers[\u001b[38;5;124m'\u001b[39m\u001b[38;5;124msepal_width\u001b[39m\u001b[38;5;124m'\u001b[39m][flowers[\u001b[38;5;124m\"\u001b[39m\u001b[38;5;124mspecies\u001b[39m\u001b[38;5;124m\"\u001b[39m]\u001b[38;5;241m==\u001b[39m\u001b[38;5;124m\"\u001b[39m\u001b[38;5;124mversicolor\u001b[39m\u001b[38;5;124m\"\u001b[39m] \u001b[38;5;241m*\u001b[39m \u001b[38;5;241m4\u001b[39m, \n\u001b[0;32m     12\u001b[0m          fill_alpha\u001b[38;5;241m=\u001b[39m\u001b[38;5;241m0.5\u001b[39m, color\u001b[38;5;241m=\u001b[39mflowers[\u001b[38;5;124m'\u001b[39m\u001b[38;5;124mcolor\u001b[39m\u001b[38;5;124m'\u001b[39m][flowers[\u001b[38;5;124m\"\u001b[39m\u001b[38;5;124mspecies\u001b[39m\u001b[38;5;124m\"\u001b[39m]\u001b[38;5;241m==\u001b[39m\u001b[38;5;124m\"\u001b[39m\u001b[38;5;124mversicolor\u001b[39m\u001b[38;5;124m\"\u001b[39m], legend_label\u001b[38;5;241m=\u001b[39m\u001b[38;5;124m'\u001b[39m\u001b[38;5;124mVersicolor\u001b[39m\u001b[38;5;124m'\u001b[39m\n\u001b[0;32m     13\u001b[0m         )\n\u001b[0;32m     15\u001b[0m f\u001b[38;5;241m.\u001b[39mcircle(x\u001b[38;5;241m=\u001b[39mflowers[\u001b[38;5;124m\"\u001b[39m\u001b[38;5;124mpetal_length\u001b[39m\u001b[38;5;124m\"\u001b[39m][flowers[\u001b[38;5;124m\"\u001b[39m\u001b[38;5;124mspecies\u001b[39m\u001b[38;5;124m\"\u001b[39m]\u001b[38;5;241m==\u001b[39m\u001b[38;5;124m\"\u001b[39m\u001b[38;5;124mvirginica\u001b[39m\u001b[38;5;124m\"\u001b[39m], y\u001b[38;5;241m=\u001b[39mflowers[\u001b[38;5;124m\"\u001b[39m\u001b[38;5;124mpetal_width\u001b[39m\u001b[38;5;124m\"\u001b[39m][flowers[\u001b[38;5;124m\"\u001b[39m\u001b[38;5;124mspecies\u001b[39m\u001b[38;5;124m\"\u001b[39m]\u001b[38;5;241m==\u001b[39m\u001b[38;5;124m\"\u001b[39m\u001b[38;5;124mvirginica\u001b[39m\u001b[38;5;124m\"\u001b[39m], \n\u001b[0;32m     16\u001b[0m          size\u001b[38;5;241m=\u001b[39mflowers[\u001b[38;5;124m'\u001b[39m\u001b[38;5;124msepal_width\u001b[39m\u001b[38;5;124m'\u001b[39m][flowers[\u001b[38;5;124m\"\u001b[39m\u001b[38;5;124mspecies\u001b[39m\u001b[38;5;124m\"\u001b[39m]\u001b[38;5;241m==\u001b[39m\u001b[38;5;124m\"\u001b[39m\u001b[38;5;124mvirginica\u001b[39m\u001b[38;5;124m\"\u001b[39m] \u001b[38;5;241m*\u001b[39m \u001b[38;5;241m4\u001b[39m, \n\u001b[0;32m     17\u001b[0m          fill_alpha\u001b[38;5;241m=\u001b[39m\u001b[38;5;241m0.5\u001b[39m, color\u001b[38;5;241m=\u001b[39mflowers[\u001b[38;5;124m'\u001b[39m\u001b[38;5;124mcolor\u001b[39m\u001b[38;5;124m'\u001b[39m][flowers[\u001b[38;5;124m\"\u001b[39m\u001b[38;5;124mspecies\u001b[39m\u001b[38;5;124m\"\u001b[39m]\u001b[38;5;241m==\u001b[39m\u001b[38;5;124m\"\u001b[39m\u001b[38;5;124mvirginica\u001b[39m\u001b[38;5;124m\"\u001b[39m], legend_label\u001b[38;5;241m=\u001b[39m\u001b[38;5;124m'\u001b[39m\u001b[38;5;124mVirginica\u001b[39m\u001b[38;5;124m'\u001b[39m\n\u001b[0;32m     18\u001b[0m         )\n",
      "File \u001b[1;32mG:\\00.Projects_Learning_Programming\\Learning_Python_Bokeh\\Python-Bokeh-Tutorial\\venv\\lib\\site-packages\\bokeh\\plotting\\_decorators.py:87\u001b[0m, in \u001b[0;36mglyph_method.<locals>.decorator.<locals>.wrapped\u001b[1;34m(self, *args, **kwargs)\u001b[0m\n\u001b[0;32m     85\u001b[0m \u001b[38;5;28;01mif\u001b[39;00m \u001b[38;5;28mself\u001b[39m\u001b[38;5;241m.\u001b[39mcoordinates \u001b[38;5;129;01mis\u001b[39;00m \u001b[38;5;129;01mnot\u001b[39;00m \u001b[38;5;28;01mNone\u001b[39;00m:\n\u001b[0;32m     86\u001b[0m     kwargs\u001b[38;5;241m.\u001b[39msetdefault(\u001b[38;5;124m\"\u001b[39m\u001b[38;5;124mcoordinates\u001b[39m\u001b[38;5;124m\"\u001b[39m, \u001b[38;5;28mself\u001b[39m\u001b[38;5;241m.\u001b[39mcoordinates)\n\u001b[1;32m---> 87\u001b[0m \u001b[38;5;28;01mreturn\u001b[39;00m create_renderer(glyphclass, \u001b[38;5;28mself\u001b[39m\u001b[38;5;241m.\u001b[39mplot, \u001b[38;5;241m*\u001b[39m\u001b[38;5;241m*\u001b[39mkwargs)\n",
      "File \u001b[1;32mG:\\00.Projects_Learning_Programming\\Learning_Python_Bokeh\\Python-Bokeh-Tutorial\\venv\\lib\\site-packages\\bokeh\\plotting\\_renderer.py:93\u001b[0m, in \u001b[0;36mcreate_renderer\u001b[1;34m(glyphclass, plot, **kwargs)\u001b[0m\n\u001b[0;32m     91\u001b[0m incompatible_literal_spec_values \u001b[38;5;241m+\u001b[39m\u001b[38;5;241m=\u001b[39m _process_sequence_literals(glyphclass, glyph_visuals, source, is_user_source)\n\u001b[0;32m     92\u001b[0m \u001b[38;5;28;01mif\u001b[39;00m incompatible_literal_spec_values:\n\u001b[1;32m---> 93\u001b[0m     \u001b[38;5;28;01mraise\u001b[39;00m \u001b[38;5;167;01mRuntimeError\u001b[39;00m(_GLYPH_SOURCE_MSG \u001b[38;5;241m%\u001b[39m nice_join(incompatible_literal_spec_values, conjuction\u001b[38;5;241m=\u001b[39m\u001b[38;5;124m\"\u001b[39m\u001b[38;5;124mand\u001b[39m\u001b[38;5;124m\"\u001b[39m))\n\u001b[0;32m     95\u001b[0m \u001b[38;5;66;03m# handle the nonselection glyph, we always set one\u001b[39;00m\n\u001b[0;32m     96\u001b[0m nonselection_visuals \u001b[38;5;241m=\u001b[39m pop_visuals(glyphclass, kwargs, prefix\u001b[38;5;241m=\u001b[39m\u001b[38;5;124m'\u001b[39m\u001b[38;5;124mnonselection_\u001b[39m\u001b[38;5;124m'\u001b[39m, defaults\u001b[38;5;241m=\u001b[39mglyph_visuals, override_defaults\u001b[38;5;241m=\u001b[39m{\u001b[38;5;124m'\u001b[39m\u001b[38;5;124malpha\u001b[39m\u001b[38;5;124m'\u001b[39m:\u001b[38;5;241m0.1\u001b[39m})\n",
      "\u001b[1;31mRuntimeError\u001b[0m: \n\nExpected size, line_color, fill_color and hatch_color to reference fields in the supplied data source.\n\nWhen a 'source' argument is passed to a glyph method, values that are sequences\n(like lists or arrays) must come from references to data columns in the source.\n\nFor instance, as an example:\n\n    source = ColumnDataSource(data=dict(x=a_list, y=an_array))\n\n    p.circle(x='x', y='y', source=source, ...) # pass column names and a source\n\nAlternatively, *all* data sequences may be provided as literals as long as a\nsource is *not* provided:\n\n    p.circle(x=a_list, y=an_array, ...)  # pass actual sequences and no source\n\n"
     ]
    }
   ],
   "source": [
    "# Adding glyphs\n",
    "\n",
    "f.circle(x=\"setosa\", y=\"petal_width\", \n",
    "         size=flowers['sepal_width'][flowers[\"species\"]==\"setosa\"] * 4, \n",
    "         fill_alpha=0.5, color=flowers['color'][flowers[\"species\"]==\"setosa\"], \n",
    "         legend_label='Setosa',\n",
    "         source=setosa\n",
    "        )\n",
    "\n",
    "f.circle(x=flowers[\"petal_length\"][flowers[\"species\"]==\"versicolor\"], y=flowers[\"petal_width\"][flowers[\"species\"]==\"versicolor\"], \n",
    "         size=flowers['sepal_width'][flowers[\"species\"]==\"versicolor\"] * 4, \n",
    "         fill_alpha=0.5, color=flowers['color'][flowers[\"species\"]==\"versicolor\"], legend_label='Versicolor'\n",
    "        )\n",
    "\n",
    "f.circle(x=flowers[\"petal_length\"][flowers[\"species\"]==\"virginica\"], y=flowers[\"petal_width\"][flowers[\"species\"]==\"virginica\"], \n",
    "         size=flowers['sepal_width'][flowers[\"species\"]==\"virginica\"] * 4, \n",
    "         fill_alpha=0.5, color=flowers['color'][flowers[\"species\"]==\"virginica\"], legend_label='Virginica'\n",
    "        )"
   ]
  },
  {
   "cell_type": "code",
   "execution_count": 8,
   "id": "debe6e95-7166-41f4-a8d9-499262dc0b22",
   "metadata": {},
   "outputs": [
    {
     "name": "stderr",
     "output_type": "stream",
     "text": [
      "C:\\Users\\amsha\\AppData\\Local\\Temp\\ipykernel_11592\\1486681383.py:3: UserWarning: \n",
      "You are attempting to set `plot.legend.location` on a plot that has zero legends added, this will have no effect.\n",
      "\n",
      "Before legend properties can be set, you must add a Legend explicitly, or call a glyph method with a legend parameter set.\n",
      "\n",
      "  f.legend.location = 'top_left'\n",
      "C:\\Users\\amsha\\AppData\\Local\\Temp\\ipykernel_11592\\1486681383.py:4: UserWarning: \n",
      "You are attempting to set `plot.legend.location` on a plot that has zero legends added, this will have no effect.\n",
      "\n",
      "Before legend properties can be set, you must add a Legend explicitly, or call a glyph method with a legend parameter set.\n",
      "\n",
      "  f.legend.location = (75, 455)\n",
      "C:\\Users\\amsha\\AppData\\Local\\Temp\\ipykernel_11592\\1486681383.py:5: UserWarning: \n",
      "You are attempting to set `plot.legend.background_fill_alpha` on a plot that has zero legends added, this will have no effect.\n",
      "\n",
      "Before legend properties can be set, you must add a Legend explicitly, or call a glyph method with a legend parameter set.\n",
      "\n",
      "  f.legend.background_fill_alpha = 0\n",
      "C:\\Users\\amsha\\AppData\\Local\\Temp\\ipykernel_11592\\1486681383.py:6: UserWarning: \n",
      "You are attempting to set `plot.legend.border_line_color` on a plot that has zero legends added, this will have no effect.\n",
      "\n",
      "Before legend properties can be set, you must add a Legend explicitly, or call a glyph method with a legend parameter set.\n",
      "\n",
      "  f.legend.border_line_color = None\n",
      "C:\\Users\\amsha\\AppData\\Local\\Temp\\ipykernel_11592\\1486681383.py:7: UserWarning: \n",
      "You are attempting to set `plot.legend.margin` on a plot that has zero legends added, this will have no effect.\n",
      "\n",
      "Before legend properties can be set, you must add a Legend explicitly, or call a glyph method with a legend parameter set.\n",
      "\n",
      "  f.legend.margin = 10\n",
      "C:\\Users\\amsha\\AppData\\Local\\Temp\\ipykernel_11592\\1486681383.py:8: UserWarning: \n",
      "You are attempting to set `plot.legend.padding` on a plot that has zero legends added, this will have no effect.\n",
      "\n",
      "Before legend properties can be set, you must add a Legend explicitly, or call a glyph method with a legend parameter set.\n",
      "\n",
      "  f.legend.padding = 18\n",
      "C:\\Users\\amsha\\AppData\\Local\\Temp\\ipykernel_11592\\1486681383.py:9: UserWarning: \n",
      "You are attempting to set `plot.legend.label_text_color` on a plot that has zero legends added, this will have no effect.\n",
      "\n",
      "Before legend properties can be set, you must add a Legend explicitly, or call a glyph method with a legend parameter set.\n",
      "\n",
      "  f.legend.label_text_color = 'olive'\n",
      "C:\\Users\\amsha\\AppData\\Local\\Temp\\ipykernel_11592\\1486681383.py:10: UserWarning: \n",
      "You are attempting to set `plot.legend.label_text_font` on a plot that has zero legends added, this will have no effect.\n",
      "\n",
      "Before legend properties can be set, you must add a Legend explicitly, or call a glyph method with a legend parameter set.\n",
      "\n",
      "  f.legend.label_text_font = 'times'\n"
     ]
    }
   ],
   "source": [
    "# Style the legend\n",
    "\n",
    "f.legend.location = 'top_left'\n",
    "f.legend.location = (75, 455)\n",
    "f.legend.background_fill_alpha = 0\n",
    "f.legend.border_line_color = None\n",
    "f.legend.margin = 10\n",
    "f.legend.padding = 18\n",
    "f.legend.label_text_color = 'olive'\n",
    "f.legend.label_text_font = 'times'"
   ]
  },
  {
   "cell_type": "code",
   "execution_count": 9,
   "id": "13de30b7-07b5-4686-b415-b8e523c270b2",
   "metadata": {},
   "outputs": [
    {
     "name": "stderr",
     "output_type": "stream",
     "text": [
      "WARNING:bokeh.core.validation.check:W-1000 (MISSING_RENDERERS): Plot has no renderers: figure(id='p1011', ...)\n"
     ]
    }
   ],
   "source": [
    "# Save and show the figure\n",
    "show(f)"
   ]
  },
  {
   "cell_type": "code",
   "execution_count": null,
   "id": "9141d38d-f73e-4e63-821a-f16dc2df1aa6",
   "metadata": {},
   "outputs": [],
   "source": []
  }
 ],
 "metadata": {
  "kernelspec": {
   "display_name": "Python 3 (ipykernel)",
   "language": "python",
   "name": "python3"
  },
  "language_info": {
   "codemirror_mode": {
    "name": "ipython",
    "version": 3
   },
   "file_extension": ".py",
   "mimetype": "text/x-python",
   "name": "python",
   "nbconvert_exporter": "python",
   "pygments_lexer": "ipython3",
   "version": "3.10.5"
  }
 },
 "nbformat": 4,
 "nbformat_minor": 5
}
