{
 "cells": [
  {
   "cell_type": "code",
   "execution_count": 4,
   "id": "57cd7331-f98c-40eb-a287-1d34303e9419",
   "metadata": {},
   "outputs": [],
   "source": [
    "#importing Bokeh and Pandas\n",
    "from bokeh.plotting import figure\n",
    "from bokeh.io import output_file, show\n",
    "import pandas as pd\n",
    "\n",
    "\n",
    "#prepare same data\n",
    "df = pd.read_csv('CSV\\data.csv')\n",
    "\n",
    "X = df['x']\n",
    "y = df['y']\n",
    "#prepre the output_file\n",
    "output_file(\"02_Line.html\")\n",
    "\n",
    "#create line plot\n",
    "f = figure()\n",
    "\n",
    "#create line plot\n",
    "f.line(X, y)\n",
    "\n",
    "show(f)"
   ]
  },
  {
   "cell_type": "code",
   "execution_count": null,
   "id": "e24196b3-de62-4215-b134-1222ca0127ab",
   "metadata": {},
   "outputs": [],
   "source": []
  }
 ],
 "metadata": {
  "kernelspec": {
   "display_name": "Python 3 (ipykernel)",
   "language": "python",
   "name": "python3"
  },
  "language_info": {
   "codemirror_mode": {
    "name": "ipython",
    "version": 3
   },
   "file_extension": ".py",
   "mimetype": "text/x-python",
   "name": "python",
   "nbconvert_exporter": "python",
   "pygments_lexer": "ipython3",
   "version": "3.10.5"
  }
 },
 "nbformat": 4,
 "nbformat_minor": 5
}
