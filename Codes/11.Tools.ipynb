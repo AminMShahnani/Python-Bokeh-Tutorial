{
 "cells": [
  {
   "cell_type": "markdown",
   "id": "1d95f88e-29e6-40ef-84fb-ca2218546c37",
   "metadata": {},
   "source": [
    "### Plotting flower species"
   ]
  },
  {
   "cell_type": "code",
   "execution_count": 5,
   "id": "fdae7fbf-4100-40d6-ac70-000066bb57a0",
   "metadata": {},
   "outputs": [],
   "source": [
    "# Importing libraries\n",
    "\n",
    "from bokeh.plotting import figure\n",
    "from bokeh.io import output_file, show\n",
    "from bokeh.sampledata.iris import flowers\n",
    "from bokeh.models import Range1d, PanTool, ResetTool, HoverTool"
   ]
  },
  {
   "cell_type": "code",
   "execution_count": 6,
   "id": "36b0df8f-1d89-47e7-b842-b6a4d056510a",
   "metadata": {},
   "outputs": [],
   "source": [
    "# Define the output file path\n",
    "output_file(\"11_iris.html\")"
   ]
  },
  {
   "cell_type": "code",
   "execution_count": 7,
   "id": "96a76154-273f-4ec4-9045-22d65b8c024b",
   "metadata": {},
   "outputs": [],
   "source": [
    "# Create the figure object\n",
    "f = figure()"
   ]
  },
  {
   "cell_type": "code",
   "execution_count": 8,
   "id": "43d82a0f-3bd4-44bc-8170-32b925cff357",
   "metadata": {},
   "outputs": [
    {
     "ename": "NameError",
     "evalue": "name 'panTool' is not defined",
     "output_type": "error",
     "traceback": [
      "\u001b[1;31m---------------------------------------------------------------------------\u001b[0m",
      "\u001b[1;31mNameError\u001b[0m                                 Traceback (most recent call last)",
      "Cell \u001b[1;32mIn[8], line 3\u001b[0m\n\u001b[0;32m      1\u001b[0m \u001b[38;5;66;03m# Style the tools\u001b[39;00m\n\u001b[1;32m----> 3\u001b[0m f\u001b[38;5;241m.\u001b[39mtools \u001b[38;5;241m=\u001b[39m [\u001b[43mpanTool\u001b[49m(), ResetTool()]\n\u001b[0;32m      4\u001b[0m f\u001b[38;5;241m.\u001b[39madd_tools(HoverTool())\n\u001b[0;32m      5\u001b[0m f\u001b[38;5;241m.\u001b[39mtoolbar_location \u001b[38;5;241m=\u001b[39m \u001b[38;5;124m'\u001b[39m\u001b[38;5;124mabove\u001b[39m\u001b[38;5;124m'\u001b[39m\n",
      "\u001b[1;31mNameError\u001b[0m: name 'panTool' is not defined"
     ]
    }
   ],
   "source": [
    "# Style the tools\n",
    "\n",
    "f.tools = [PanTool(), ResetTool()]\n",
    "f.add_tools(HoverTool())\n",
    "f.toolbar_location = 'above'"
   ]
  },
  {
   "cell_type": "code",
   "execution_count": 9,
   "id": "308536ba-e966-41eb-8698-c7d3825aabf7",
   "metadata": {},
   "outputs": [],
   "source": [
    "# Style the plot area\n",
    "\n",
    "f.width=1100\n",
    "f.height=650\n",
    "f.background_fill_color=\"olive\"\n",
    "f.background_fill_alpha=0.3"
   ]
  },
  {
   "cell_type": "code",
   "execution_count": 10,
   "id": "eb31bfc7-2564-4b15-a5ff-b34efd023627",
   "metadata": {},
   "outputs": [],
   "source": [
    "# Style the title\n",
    "\n",
    "f.title.text = \"Iris Morphology\"\n",
    "f.title.text_color  =  \"olive\"\n",
    "f.title.text_font = \"times\"\n",
    "f.title.text_font_size = \"25px\"\n",
    "f.title.align = \"center\""
   ]
  },
  {
   "cell_type": "code",
   "execution_count": 11,
   "id": "fd6964ae-026a-4c3e-9ec8-f8b03640ddbc",
   "metadata": {},
   "outputs": [],
   "source": [
    "# Styling the axes\n",
    "\n",
    "f.xaxis.minor_tick_line_color =\"blue\"\n",
    "f.yaxis.major_label_orientation = \"vertical\"\n",
    "f.xaxis.visible = True\n",
    "f.xaxis.minor_tick_in = -6\n",
    "#f.xaxis.minor_tick_out = 10\n",
    "f.xaxis.axis_label  =  \"Petal Length\"\n",
    "f.yaxis.axis_label = \"Petal Width\"\n",
    "f.axis.axis_label_text_color = \"blue\"\n",
    "f.axis.major_label_text_color = \"orange\""
   ]
  },
  {
   "cell_type": "code",
   "execution_count": 12,
   "id": "debb7391-eae2-4dc0-a2a6-4afe1fc81472",
   "metadata": {},
   "outputs": [],
   "source": [
    "# Axes geometry\n",
    "\n",
    "f.x_range = Range1d(start=0, end=10)\n",
    "f.y_range = Range1d(start=0, end=5)\n",
    "f.xaxis.bounds = (0, 10)\n",
    "f.xaxis[0].ticker.desired_num_ticks = 2\n",
    "f.yaxis[0].ticker.desired_num_ticks = 2\n",
    "f.yaxis[0].ticker.num_minor_ticks = 10"
   ]
  },
  {
   "cell_type": "code",
   "execution_count": 13,
   "id": "6ab4e259-3a14-4a7f-81ca-e496ebaf47f3",
   "metadata": {},
   "outputs": [],
   "source": [
    "# Style the grid\n",
    "\n",
    "f.xgrid.grid_line_color = None\n",
    "f.ygrid.grid_line_alpha = 0.6\n",
    "f.grid.grid_line_dash = [5, 3]"
   ]
  },
  {
   "cell_type": "code",
   "execution_count": 14,
   "id": "a166c2e1-20a6-47fc-a1b4-e27b5432f2de",
   "metadata": {},
   "outputs": [
    {
     "data": {
      "text/html": [
       "<div style=\"display: table;\"><div style=\"display: table-row;\"><div style=\"display: table-cell;\"><b title=\"bokeh.models.renderers.glyph_renderer.GlyphRenderer\">GlyphRenderer</b>(</div><div style=\"display: table-cell;\">id&nbsp;=&nbsp;'p1037', <span id=\"p1041\" style=\"cursor: pointer;\">&hellip;)</span></div></div><div class=\"p1040\" style=\"display: none;\"><div style=\"display: table-cell;\"></div><div style=\"display: table-cell;\">coordinates&nbsp;=&nbsp;None,</div></div><div class=\"p1040\" style=\"display: none;\"><div style=\"display: table-cell;\"></div><div style=\"display: table-cell;\">data_source&nbsp;=&nbsp;ColumnDataSource(id='p1031', ...),</div></div><div class=\"p1040\" style=\"display: none;\"><div style=\"display: table-cell;\"></div><div style=\"display: table-cell;\">glyph&nbsp;=&nbsp;Circle(id='p1034', ...),</div></div><div class=\"p1040\" style=\"display: none;\"><div style=\"display: table-cell;\"></div><div style=\"display: table-cell;\">group&nbsp;=&nbsp;None,</div></div><div class=\"p1040\" style=\"display: none;\"><div style=\"display: table-cell;\"></div><div style=\"display: table-cell;\">hover_glyph&nbsp;=&nbsp;None,</div></div><div class=\"p1040\" style=\"display: none;\"><div style=\"display: table-cell;\"></div><div style=\"display: table-cell;\">js_event_callbacks&nbsp;=&nbsp;{},</div></div><div class=\"p1040\" style=\"display: none;\"><div style=\"display: table-cell;\"></div><div style=\"display: table-cell;\">js_property_callbacks&nbsp;=&nbsp;{},</div></div><div class=\"p1040\" style=\"display: none;\"><div style=\"display: table-cell;\"></div><div style=\"display: table-cell;\">level&nbsp;=&nbsp;'glyph',</div></div><div class=\"p1040\" style=\"display: none;\"><div style=\"display: table-cell;\"></div><div style=\"display: table-cell;\">muted&nbsp;=&nbsp;False,</div></div><div class=\"p1040\" style=\"display: none;\"><div style=\"display: table-cell;\"></div><div style=\"display: table-cell;\">muted_glyph&nbsp;=&nbsp;Circle(id='p1036', ...),</div></div><div class=\"p1040\" style=\"display: none;\"><div style=\"display: table-cell;\"></div><div style=\"display: table-cell;\">name&nbsp;=&nbsp;None,</div></div><div class=\"p1040\" style=\"display: none;\"><div style=\"display: table-cell;\"></div><div style=\"display: table-cell;\">nonselection_glyph&nbsp;=&nbsp;Circle(id='p1035', ...),</div></div><div class=\"p1040\" style=\"display: none;\"><div style=\"display: table-cell;\"></div><div style=\"display: table-cell;\">propagate_hover&nbsp;=&nbsp;False,</div></div><div class=\"p1040\" style=\"display: none;\"><div style=\"display: table-cell;\"></div><div style=\"display: table-cell;\">selection_glyph&nbsp;=&nbsp;'auto',</div></div><div class=\"p1040\" style=\"display: none;\"><div style=\"display: table-cell;\"></div><div style=\"display: table-cell;\">subscribed_events&nbsp;=&nbsp;PropertyValueSet(),</div></div><div class=\"p1040\" style=\"display: none;\"><div style=\"display: table-cell;\"></div><div style=\"display: table-cell;\">syncable&nbsp;=&nbsp;True,</div></div><div class=\"p1040\" style=\"display: none;\"><div style=\"display: table-cell;\"></div><div style=\"display: table-cell;\">tags&nbsp;=&nbsp;[],</div></div><div class=\"p1040\" style=\"display: none;\"><div style=\"display: table-cell;\"></div><div style=\"display: table-cell;\">view&nbsp;=&nbsp;CDSView(id='p1038', ...),</div></div><div class=\"p1040\" style=\"display: none;\"><div style=\"display: table-cell;\"></div><div style=\"display: table-cell;\">visible&nbsp;=&nbsp;True,</div></div><div class=\"p1040\" style=\"display: none;\"><div style=\"display: table-cell;\"></div><div style=\"display: table-cell;\">x_range_name&nbsp;=&nbsp;'default',</div></div><div class=\"p1040\" style=\"display: none;\"><div style=\"display: table-cell;\"></div><div style=\"display: table-cell;\">y_range_name&nbsp;=&nbsp;'default')</div></div></div>\n",
       "<script>\n",
       "(function() {\n",
       "  let expanded = false;\n",
       "  const ellipsis = document.getElementById(\"p1041\");\n",
       "  ellipsis.addEventListener(\"click\", function() {\n",
       "    const rows = document.getElementsByClassName(\"p1040\");\n",
       "    for (let i = 0; i < rows.length; i++) {\n",
       "      const el = rows[i];\n",
       "      el.style.display = expanded ? \"none\" : \"table-row\";\n",
       "    }\n",
       "    ellipsis.innerHTML = expanded ? \"&hellip;)\" : \"&lsaquo;&lsaquo;&lsaquo;\";\n",
       "    expanded = !expanded;\n",
       "  });\n",
       "})();\n",
       "</script>\n"
      ],
      "text/plain": [
       "GlyphRenderer(id='p1037', ...)"
      ]
     },
     "execution_count": 14,
     "metadata": {},
     "output_type": "execute_result"
    }
   ],
   "source": [
    "# Adding glyphs\n",
    "f.circle(x=flowers[\"petal_length\"], y=flowers[\"petal_width\"])"
   ]
  },
  {
   "cell_type": "code",
   "execution_count": 15,
   "id": "13de30b7-07b5-4686-b415-b8e523c270b2",
   "metadata": {},
   "outputs": [],
   "source": [
    "# Save and show the figure\n",
    "show(f)"
   ]
  },
  {
   "cell_type": "code",
   "execution_count": 4,
   "id": "c452c1e7-f725-435c-aead-18a3ad3200df",
   "metadata": {},
   "outputs": [
    {
     "data": {
      "text/plain": [
       "['ActionTool',\n",
       " 'Alpha',\n",
       " 'Anchor',\n",
       " 'AnyRef',\n",
       " 'Auto',\n",
       " 'Bool',\n",
       " 'BoxAnnotation',\n",
       " 'BoxEditTool',\n",
       " 'BoxSelectTool',\n",
       " 'BoxZoomTool',\n",
       " 'Callback',\n",
       " 'Color',\n",
       " 'CopyTool',\n",
       " 'CrosshairTool',\n",
       " 'CustomAction',\n",
       " 'CustomJSHover',\n",
       " 'DEFAULT_BOX_SELECT_OVERLAY',\n",
       " 'DEFAULT_BOX_ZOOM_OVERLAY',\n",
       " 'DEFAULT_HELP_TIP',\n",
       " 'DEFAULT_HELP_URL',\n",
       " 'DEFAULT_POLY_OVERLAY',\n",
       " 'DEFAULT_RANGE_OVERLAY',\n",
       " 'DataRenderer',\n",
       " 'Date',\n",
       " 'Datetime',\n",
       " 'DeprecatedAlias',\n",
       " 'Dict',\n",
       " 'Dimension',\n",
       " 'Dimensions',\n",
       " 'Drag',\n",
       " 'EditTool',\n",
       " 'Either',\n",
       " 'Enum',\n",
       " 'ExamineTool',\n",
       " 'Float',\n",
       " 'FreehandDrawTool',\n",
       " 'FullscreenTool',\n",
       " 'GestureTool',\n",
       " 'GlyphRenderer',\n",
       " 'HelpTool',\n",
       " 'HoverTool',\n",
       " 'INCOMPATIBLE_BOX_EDIT_RENDERER',\n",
       " 'INCOMPATIBLE_LINE_EDIT_INTERSECTION_RENDERER',\n",
       " 'INCOMPATIBLE_LINE_EDIT_RENDERER',\n",
       " 'INCOMPATIBLE_POINT_DRAW_RENDERER',\n",
       " 'INCOMPATIBLE_POLY_DRAW_RENDERER',\n",
       " 'INCOMPATIBLE_POLY_EDIT_RENDERER',\n",
       " 'INCOMPATIBLE_POLY_EDIT_VERTEX_RENDERER',\n",
       " 'Image',\n",
       " 'InspectTool',\n",
       " 'Instance',\n",
       " 'InstanceDefault',\n",
       " 'Int',\n",
       " 'KeyModifier',\n",
       " 'LassoSelectTool',\n",
       " 'Line',\n",
       " 'LineEditTool',\n",
       " 'LineGlyph',\n",
       " 'List',\n",
       " 'Literal',\n",
       " 'Model',\n",
       " 'MultiLine',\n",
       " 'NO_RANGE_TOOL_RANGES',\n",
       " 'Null',\n",
       " 'Nullable',\n",
       " 'Optional',\n",
       " 'Override',\n",
       " 'PanTool',\n",
       " 'Patches',\n",
       " 'Percent',\n",
       " 'PlotActionTool',\n",
       " 'PointDrawTool',\n",
       " 'PolyAnnotation',\n",
       " 'PolyDrawTool',\n",
       " 'PolyEditTool',\n",
       " 'PolySelectTool',\n",
       " 'PolyTool',\n",
       " 'Range1d',\n",
       " 'RangeTool',\n",
       " 'Rect',\n",
       " 'RedoTool',\n",
       " 'Regex',\n",
       " 'RegionSelectTool',\n",
       " 'ResetTool',\n",
       " 'SaveTool',\n",
       " 'Scroll',\n",
       " 'SelectTool',\n",
       " 'SelectionMode',\n",
       " 'Seq',\n",
       " 'Span',\n",
       " 'String',\n",
       " 'Struct',\n",
       " 'Tap',\n",
       " 'TapTool',\n",
       " 'Template',\n",
       " 'Tool',\n",
       " 'ToolIcon',\n",
       " 'ToolProxy',\n",
       " 'Toolbar',\n",
       " 'TooltipAttachment',\n",
       " 'TooltipFieldFormatter',\n",
       " 'Tuple',\n",
       " 'UIElement',\n",
       " 'UndoTool',\n",
       " 'WheelPanTool',\n",
       " 'WheelZoomTool',\n",
       " 'XYGlyph',\n",
       " 'ZoomBaseTool',\n",
       " 'ZoomInTool',\n",
       " 'ZoomOutTool',\n",
       " '__all__',\n",
       " '__builtins__',\n",
       " '__cached__',\n",
       " '__doc__',\n",
       " '__file__',\n",
       " '__loader__',\n",
       " '__name__',\n",
       " '__package__',\n",
       " '__spec__',\n",
       " 'abstract',\n",
       " 'annotations',\n",
       " 'difflib',\n",
       " 'error',\n",
       " 'log',\n",
       " 'logging',\n",
       " 'nice_join',\n",
       " 'tp']"
      ]
     },
     "execution_count": 4,
     "metadata": {},
     "output_type": "execute_result"
    }
   ],
   "source": [
    "import bokeh.models\n",
    "dir(bokeh.models.tools)"
   ]
  },
  {
   "cell_type": "code",
   "execution_count": null,
   "id": "9141d38d-f73e-4e63-821a-f16dc2df1aa6",
   "metadata": {},
   "outputs": [],
   "source": []
  }
 ],
 "metadata": {
  "kernelspec": {
   "display_name": "Python 3 (ipykernel)",
   "language": "python",
   "name": "python3"
  },
  "language_info": {
   "codemirror_mode": {
    "name": "ipython",
    "version": 3
   },
   "file_extension": ".py",
   "mimetype": "text/x-python",
   "name": "python",
   "nbconvert_exporter": "python",
   "pygments_lexer": "ipython3",
   "version": "3.10.5"
  }
 },
 "nbformat": 4,
 "nbformat_minor": 5
}
