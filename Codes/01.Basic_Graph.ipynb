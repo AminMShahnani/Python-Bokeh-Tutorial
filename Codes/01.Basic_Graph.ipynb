{
 "cells": [
  {
   "cell_type": "markdown",
   "id": "9e9a117a-69c5-4162-b4fb-bb86197c9283",
   "metadata": {},
   "source": [
    "# Making a basic Bokeh Line graph"
   ]
  },
  {
   "cell_type": "code",
   "execution_count": 5,
   "id": "69655ad7-5426-4afe-8118-f837fb74c469",
   "metadata": {},
   "outputs": [],
   "source": [
    "#importing Bokeh\n",
    "from bokeh.plotting import figure\n",
    "from bokeh.io import output_file, show\n",
    "\n",
    "#prepare same data\n",
    "X = [1, 2, 3, 4, 5]\n",
    "y = [6, 7, 8, 9,  10]\n",
    "\n",
    "#prepre the output_file\n",
    "output_file(\"01_Line.html\")\n",
    "\n",
    "#create line plot\n",
    "f = figure()\n",
    "\n",
    "#create line plot\n",
    "f.line(X, y)\n",
    "\n",
    "show(f)"
   ]
  },
  {
   "cell_type": "code",
   "execution_count": null,
   "id": "b9dc6ea3-584f-4499-88e5-7c96824cc174",
   "metadata": {},
   "outputs": [],
   "source": []
  }
 ],
 "metadata": {
  "kernelspec": {
   "display_name": "Python 3 (ipykernel)",
   "language": "python",
   "name": "python3"
  },
  "language_info": {
   "codemirror_mode": {
    "name": "ipython",
    "version": 3
   },
   "file_extension": ".py",
   "mimetype": "text/x-python",
   "name": "python",
   "nbconvert_exporter": "python",
   "pygments_lexer": "ipython3",
   "version": "3.10.5"
  }
 },
 "nbformat": 4,
 "nbformat_minor": 5
}
