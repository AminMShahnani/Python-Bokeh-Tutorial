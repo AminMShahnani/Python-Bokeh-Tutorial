{
 "cells": [
  {
   "cell_type": "code",
   "execution_count": 2,
   "id": "6fe4241e-3d75-46b7-8da0-25f0df8d977e",
   "metadata": {},
   "outputs": [
    {
     "data": {
      "text/plain": [
       "'G:\\\\00.Projects_Learning_Programming\\\\Learning_Python_Bokeh\\\\Python-Bokeh-Tutorial\\\\Codes\\\\03_Line.html'"
      ]
     },
     "execution_count": 2,
     "metadata": {},
     "output_type": "execute_result"
    }
   ],
   "source": [
    "#importing Bokeh\n",
    "from bokeh.plotting import figure\n",
    "from bokeh.io import output_file, show, save\n",
    "\n",
    "#prepare same data\n",
    "X = [1, 2, 3, 4, 5]\n",
    "y = [6, 7, 8, 9,  10]\n",
    "\n",
    "#prepre the output_file\n",
    "output_file(\"03_Line.html\")\n",
    "\n",
    "#create line plot\n",
    "f = figure()\n",
    "\n",
    "#create line plot\n",
    "f.line(X, y)\n",
    "\n",
    "# show(f)\n",
    "save(f)"
   ]
  },
  {
   "cell_type": "code",
   "execution_count": null,
   "id": "2cc37e6a-1e60-4a20-9dbc-bb620f8a27f7",
   "metadata": {},
   "outputs": [],
   "source": []
  }
 ],
 "metadata": {
  "kernelspec": {
   "display_name": "Python 3 (ipykernel)",
   "language": "python",
   "name": "python3"
  },
  "language_info": {
   "codemirror_mode": {
    "name": "ipython",
    "version": 3
   },
   "file_extension": ".py",
   "mimetype": "text/x-python",
   "name": "python",
   "nbconvert_exporter": "python",
   "pygments_lexer": "ipython3",
   "version": "3.10.5"
  }
 },
 "nbformat": 4,
 "nbformat_minor": 5
}
